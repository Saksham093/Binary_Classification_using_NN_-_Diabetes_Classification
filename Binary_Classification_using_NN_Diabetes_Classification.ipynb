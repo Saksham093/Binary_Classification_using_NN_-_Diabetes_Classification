{
 "cells": [
  {
   "cell_type": "markdown",
   "id": "33499163-117b-4ae1-8b7b-fca33c3441fb",
   "metadata": {},
   "source": [
    "# **Binary Classification using Neural Networks**\n",
    "#  Diabetes Classification\n",
    "Predict the given person is suffering from diabetes.\n",
    "<hr>\n",
    "-- M.SAKSHAM <br>\n",
    "-- 29-12-2022 <br>\n",
    "-- V : 01\n",
    "<hr>"
   ]
  },
  {
   "cell_type": "markdown",
   "id": "9c2eaa54-bb04-4906-bcda-1c38ab28383a",
   "metadata": {},
   "source": [
    "The construction of deep learning models in Keras as follows:\n",
    "1. Define your model. Create a sequence and add layers.\n",
    "2. Compile your model. Specify loss functions and optimizers.\n",
    "3. Fit your model. Execute the model using data.\n",
    "4. Make predictions. Use the model to generate predictions on new data."
   ]
  },
  {
   "cell_type": "markdown",
   "id": "9a56fbdd-2850-4715-834f-e455868497d3",
   "metadata": {},
   "source": [
    "## Import dependencies..."
   ]
  },
  {
   "cell_type": "code",
   "execution_count": 1,
   "id": "bf58d2bc-4a5f-495f-8d92-6ee5586a56e9",
   "metadata": {},
   "outputs": [],
   "source": [
    "import numpy as np\n",
    "import pandas as pd\n",
    "import matplotlib.pyplot as plt\n",
    "from keras.models import Sequential\n",
    "from keras.layers import Dense\n",
    "from keras import optimizers"
   ]
  },
  {
   "cell_type": "markdown",
   "id": "c1df7b37-8ed3-41b8-979e-a5b2270bb994",
   "metadata": {},
   "source": [
    "## Read the data..."
   ]
  },
  {
   "cell_type": "code",
   "execution_count": 2,
   "id": "21e1d0a1-9f9b-494a-901e-1114f0dcbd81",
   "metadata": {},
   "outputs": [],
   "source": [
    "train=pd.read_csv('dataset/train.csv')\n",
    "test=pd.read_csv('dataset/test.csv')\n",
    "subm=pd.read_csv('dataset/sample_submission.csv')"
   ]
  },
  {
   "cell_type": "markdown",
   "id": "ed166218-2b50-432f-af7a-1a78bff30c8d",
   "metadata": {},
   "source": [
    "## Stats on Data..."
   ]
  },
  {
   "cell_type": "code",
   "execution_count": 3,
   "id": "26812ff7-d044-4e69-a958-c4877b5d8772",
   "metadata": {},
   "outputs": [
    {
     "data": {
      "text/html": [
       "<div>\n",
       "<style scoped>\n",
       "    .dataframe tbody tr th:only-of-type {\n",
       "        vertical-align: middle;\n",
       "    }\n",
       "\n",
       "    .dataframe tbody tr th {\n",
       "        vertical-align: top;\n",
       "    }\n",
       "\n",
       "    .dataframe thead th {\n",
       "        text-align: right;\n",
       "    }\n",
       "</style>\n",
       "<table border=\"1\" class=\"dataframe\">\n",
       "  <thead>\n",
       "    <tr style=\"text-align: right;\">\n",
       "      <th></th>\n",
       "      <th>p_id</th>\n",
       "      <th>no_times_pregnant</th>\n",
       "      <th>glucose_concentration</th>\n",
       "      <th>blood_pressure</th>\n",
       "      <th>skin_fold_thickness</th>\n",
       "      <th>serum_insulin</th>\n",
       "      <th>bmi</th>\n",
       "      <th>diabetes pedigree</th>\n",
       "      <th>age</th>\n",
       "      <th>diabetes</th>\n",
       "    </tr>\n",
       "  </thead>\n",
       "  <tbody>\n",
       "    <tr>\n",
       "      <th>0</th>\n",
       "      <td>316</td>\n",
       "      <td>2</td>\n",
       "      <td>112</td>\n",
       "      <td>68</td>\n",
       "      <td>22</td>\n",
       "      <td>94</td>\n",
       "      <td>34.1</td>\n",
       "      <td>0.315</td>\n",
       "      <td>26</td>\n",
       "      <td>0</td>\n",
       "    </tr>\n",
       "    <tr>\n",
       "      <th>1</th>\n",
       "      <td>25</td>\n",
       "      <td>11</td>\n",
       "      <td>143</td>\n",
       "      <td>94</td>\n",
       "      <td>33</td>\n",
       "      <td>146</td>\n",
       "      <td>36.6</td>\n",
       "      <td>0.254</td>\n",
       "      <td>51</td>\n",
       "      <td>1</td>\n",
       "    </tr>\n",
       "    <tr>\n",
       "      <th>2</th>\n",
       "      <td>710</td>\n",
       "      <td>2</td>\n",
       "      <td>93</td>\n",
       "      <td>64</td>\n",
       "      <td>32</td>\n",
       "      <td>160</td>\n",
       "      <td>38.0</td>\n",
       "      <td>0.674</td>\n",
       "      <td>23</td>\n",
       "      <td>1</td>\n",
       "    </tr>\n",
       "    <tr>\n",
       "      <th>3</th>\n",
       "      <td>658</td>\n",
       "      <td>1</td>\n",
       "      <td>120</td>\n",
       "      <td>80</td>\n",
       "      <td>48</td>\n",
       "      <td>200</td>\n",
       "      <td>38.9</td>\n",
       "      <td>1.162</td>\n",
       "      <td>41</td>\n",
       "      <td>0</td>\n",
       "    </tr>\n",
       "    <tr>\n",
       "      <th>4</th>\n",
       "      <td>542</td>\n",
       "      <td>3</td>\n",
       "      <td>128</td>\n",
       "      <td>72</td>\n",
       "      <td>25</td>\n",
       "      <td>190</td>\n",
       "      <td>32.4</td>\n",
       "      <td>0.549</td>\n",
       "      <td>27</td>\n",
       "      <td>1</td>\n",
       "    </tr>\n",
       "  </tbody>\n",
       "</table>\n",
       "</div>"
      ],
      "text/plain": [
       "   p_id  no_times_pregnant  glucose_concentration  blood_pressure  \\\n",
       "0   316                  2                    112              68   \n",
       "1    25                 11                    143              94   \n",
       "2   710                  2                     93              64   \n",
       "3   658                  1                    120              80   \n",
       "4   542                  3                    128              72   \n",
       "\n",
       "   skin_fold_thickness  serum_insulin   bmi  diabetes pedigree  age  diabetes  \n",
       "0                   22             94  34.1              0.315   26         0  \n",
       "1                   33            146  36.6              0.254   51         1  \n",
       "2                   32            160  38.0              0.674   23         1  \n",
       "3                   48            200  38.9              1.162   41         0  \n",
       "4                   25            190  32.4              0.549   27         1  "
      ]
     },
     "execution_count": 3,
     "metadata": {},
     "output_type": "execute_result"
    }
   ],
   "source": [
    "train.head()"
   ]
  },
  {
   "cell_type": "code",
   "execution_count": 4,
   "id": "1c2e1fde-5d0c-4ca1-b82e-ef42c0434177",
   "metadata": {},
   "outputs": [
    {
     "data": {
      "text/plain": [
       "0    400\n",
       "1    214\n",
       "Name: diabetes, dtype: int64"
      ]
     },
     "execution_count": 4,
     "metadata": {},
     "output_type": "execute_result"
    }
   ],
   "source": [
    "train.diabetes.value_counts()"
   ]
  },
  {
   "cell_type": "code",
   "execution_count": 5,
   "id": "94bdf1cf-fa5a-49ee-b603-30755079f28c",
   "metadata": {},
   "outputs": [
    {
     "data": {
      "text/plain": [
       "33.3257328990228"
      ]
     },
     "metadata": {},
     "output_type": "display_data"
    },
    {
     "data": {
      "image/png": "[encoded data removed]",
      "text/plain": [
       "<Figure size 432x288 with 1 Axes>"
      ]
     },
     "metadata": {
      "needs_background": "light"
     },
     "output_type": "display_data"
    }
   ],
   "source": [
    "train.age.hist()\n",
    "display(train.age.mean())\n",
    "plt.show()"
   ]
  },
  {
   "cell_type": "code",
   "execution_count": 6,
   "id": "e871f8d3-a890-4de6-a072-7cf21fe360f5",
   "metadata": {},
   "outputs": [
    {
     "data": {
      "text/plain": [
       "p_id                    -0.001023\n",
       "no_times_pregnant        0.906273\n",
       "glucose_concentration    0.120295\n",
       "blood_pressure          -1.877868\n",
       "skin_fold_thickness      0.014201\n",
       "serum_insulin            2.394700\n",
       "bmi                     -0.539151\n",
       "diabetes pedigree        1.978319\n",
       "age                      1.143901\n",
       "diabetes                 0.637293\n",
       "dtype: float64"
      ]
     },
     "execution_count": 6,
     "metadata": {},
     "output_type": "execute_result"
    }
   ],
   "source": [
    "train.skew()"
   ]
  },
  {
   "cell_type": "code",
   "execution_count": 7,
   "id": "a6851254-e49b-46ed-8b75-50d9eb5d270c",
   "metadata": {},
   "outputs": [
    {
     "data": {
      "image/png": "[encoded data removed]",
      "text/plain": [
       "<Figure size 432x288 with 1 Axes>"
      ]
     },
     "metadata": {
      "needs_background": "light"
     },
     "output_type": "display_data"
    }
   ],
   "source": [
    "train.glucose_concentration.hist()\n",
    "plt.show()"
   ]
  },
  {
   "cell_type": "code",
   "execution_count": 8,
   "id": "88783d66-9f13-4897-94c2-e346c9f7a357",
   "metadata": {},
   "outputs": [
    {
     "data": {
      "image/png": "[encoded data removed]",
      "text/plain": [
       "<Figure size 432x288 with 1 Axes>"
      ]
     },
     "metadata": {
      "needs_background": "light"
     },
     "output_type": "display_data"
    }
   ],
   "source": [
    "train.bmi.hist()\n",
    "plt.show()"
   ]
  },
  {
   "cell_type": "markdown",
   "id": "a09aa00c-2868-4429-8e99-4492fb9ddb7b",
   "metadata": {},
   "source": [
    "## Hyper parameters..."
   ]
  },
  {
   "cell_type": "markdown",
   "id": "6276e370-34de-4b64-a9e3-040bcd97902a",
   "metadata": {},
   "source": [
    "Parameters which are external to the model. Weights and bias are the parameters which are internal to the model generation.\n",
    "\n",
    "* No of Hidden Units.\n",
    "* Learning rate.\n",
    "* Activation function.\n",
    "* No of epochs"
   ]
  },
  {
   "cell_type": "code",
   "execution_count": 9,
   "id": "95da99eb-f2f7-45de-a7d7-cdaadfd9c3e4",
   "metadata": {},
   "outputs": [],
   "source": [
    "hidden_units=100\n",
    "learning_rate=0.01\n",
    "hidden_layer_act='tanh'\n",
    "output_layer_act='sigmoid'\n",
    "no_epochs=100"
   ]
  },
  {
   "cell_type": "markdown",
   "id": "e2014f2f-fc4c-48d6-864c-c0e12cc6f445",
   "metadata": {},
   "source": [
    "## Model creation..."
   ]
  },
  {
   "cell_type": "code",
   "execution_count": 10,
   "id": "f2934914-41f4-4433-bce5-40b95da6f0b6",
   "metadata": {},
   "outputs": [],
   "source": [
    "# We use the sequential model of keras...\n",
    "\n",
    "model = Sequential()"
   ]
  },
  {
   "cell_type": "markdown",
   "id": "cb7dee67-ae83-454e-a97e-beb0ddaf3e54",
   "metadata": {},
   "source": [
    "## Layers Addition..."
   ]
  },
  {
   "cell_type": "code",
   "execution_count": 11,
   "id": "f1791bf8-9991-4ae9-826f-6dd5a86f4e7e",
   "metadata": {},
   "outputs": [],
   "source": [
    "model.add(Dense(hidden_units, input_dim=8, activation=hidden_layer_act))\n",
    "model.add(Dense(hidden_units, activation=hidden_layer_act))\n",
    "model.add(Dense(1, activation=output_layer_act))"
   ]
  },
  {
   "cell_type": "markdown",
   "id": "958bdf61-e865-4f87-a94d-8f0eff805a82",
   "metadata": {},
   "source": [
    "## Compilation..."
   ]
  },
  {
   "cell_type": "code",
   "execution_count": 12,
   "id": "c76072ea-c10f-4d41-b16f-6a32e44a91ec",
   "metadata": {},
   "outputs": [
    {
     "name": "stderr",
     "output_type": "stream",
     "text": [
      "C:\\Users\\M.SAKSHAM\\anaconda3\\lib\\site-packages\\keras\\optimizers\\optimizer_v2\\gradient_descent.py:108: UserWarning: The `lr` argument is deprecated, use `learning_rate` instead.\n",
      "  super(SGD, self).__init__(name, **kwargs)\n"
     ]
    }
   ],
   "source": [
    "sgd=optimizers.SGD(lr=learning_rate)\n",
    "model.compile(loss='binary_crossentropy',optimizer=sgd, metrics=['acc'])"
   ]
  },
  {
   "cell_type": "markdown",
   "id": "a77a62ac-993f-49f9-949a-9d5ae137b667",
   "metadata": {},
   "source": [
    "## Fitting the model..."
   ]
  },
  {
   "cell_type": "code",
   "execution_count": 13,
   "id": "6b8e33df-cfd0-4802-b888-162fccb38e23",
   "metadata": {},
   "outputs": [
    {
     "data": {
      "text/html": [
       "<div>\n",
       "<style scoped>\n",
       "    .dataframe tbody tr th:only-of-type {\n",
       "        vertical-align: middle;\n",
       "    }\n",
       "\n",
       "    .dataframe tbody tr th {\n",
       "        vertical-align: top;\n",
       "    }\n",
       "\n",
       "    .dataframe thead th {\n",
       "        text-align: right;\n",
       "    }\n",
       "</style>\n",
       "<table border=\"1\" class=\"dataframe\">\n",
       "  <thead>\n",
       "    <tr style=\"text-align: right;\">\n",
       "      <th></th>\n",
       "      <th>no_times_pregnant</th>\n",
       "      <th>glucose_concentration</th>\n",
       "      <th>blood_pressure</th>\n",
       "      <th>skin_fold_thickness</th>\n",
       "      <th>serum_insulin</th>\n",
       "      <th>bmi</th>\n",
       "      <th>diabetes pedigree</th>\n",
       "      <th>age</th>\n",
       "    </tr>\n",
       "  </thead>\n",
       "  <tbody>\n",
       "    <tr>\n",
       "      <th>0</th>\n",
       "      <td>2</td>\n",
       "      <td>112</td>\n",
       "      <td>68</td>\n",
       "      <td>22</td>\n",
       "      <td>94</td>\n",
       "      <td>34.1</td>\n",
       "      <td>0.315</td>\n",
       "      <td>26</td>\n",
       "    </tr>\n",
       "    <tr>\n",
       "      <th>1</th>\n",
       "      <td>11</td>\n",
       "      <td>143</td>\n",
       "      <td>94</td>\n",
       "      <td>33</td>\n",
       "      <td>146</td>\n",
       "      <td>36.6</td>\n",
       "      <td>0.254</td>\n",
       "      <td>51</td>\n",
       "    </tr>\n",
       "    <tr>\n",
       "      <th>2</th>\n",
       "      <td>2</td>\n",
       "      <td>93</td>\n",
       "      <td>64</td>\n",
       "      <td>32</td>\n",
       "      <td>160</td>\n",
       "      <td>38.0</td>\n",
       "      <td>0.674</td>\n",
       "      <td>23</td>\n",
       "    </tr>\n",
       "    <tr>\n",
       "      <th>3</th>\n",
       "      <td>1</td>\n",
       "      <td>120</td>\n",
       "      <td>80</td>\n",
       "      <td>48</td>\n",
       "      <td>200</td>\n",
       "      <td>38.9</td>\n",
       "      <td>1.162</td>\n",
       "      <td>41</td>\n",
       "    </tr>\n",
       "    <tr>\n",
       "      <th>4</th>\n",
       "      <td>3</td>\n",
       "      <td>128</td>\n",
       "      <td>72</td>\n",
       "      <td>25</td>\n",
       "      <td>190</td>\n",
       "      <td>32.4</td>\n",
       "      <td>0.549</td>\n",
       "      <td>27</td>\n",
       "    </tr>\n",
       "  </tbody>\n",
       "</table>\n",
       "</div>"
      ],
      "text/plain": [
       "   no_times_pregnant  glucose_concentration  blood_pressure  \\\n",
       "0                  2                    112              68   \n",
       "1                 11                    143              94   \n",
       "2                  2                     93              64   \n",
       "3                  1                    120              80   \n",
       "4                  3                    128              72   \n",
       "\n",
       "   skin_fold_thickness  serum_insulin   bmi  diabetes pedigree  age  \n",
       "0                   22             94  34.1              0.315   26  \n",
       "1                   33            146  36.6              0.254   51  \n",
       "2                   32            160  38.0              0.674   23  \n",
       "3                   48            200  38.9              1.162   41  \n",
       "4                   25            190  32.4              0.549   27  "
      ]
     },
     "execution_count": 13,
     "metadata": {},
     "output_type": "execute_result"
    }
   ],
   "source": [
    "train_x=train.iloc[:,1:9]\n",
    "train_x.head()"
   ]
  },
  {
   "cell_type": "code",
   "execution_count": 14,
   "id": "99aac2ee-a26e-437f-a32f-349e4ad87d94",
   "metadata": {},
   "outputs": [
    {
     "data": {
      "text/plain": [
       "0    0\n",
       "1    1\n",
       "2    1\n",
       "3    0\n",
       "4    1\n",
       "Name: diabetes, dtype: int64"
      ]
     },
     "execution_count": 14,
     "metadata": {},
     "output_type": "execute_result"
    }
   ],
   "source": [
    "train_y=train.iloc[:,9]\n",
    "train_y.head()"
   ]
  },
  {
   "cell_type": "code",
   "execution_count": 15,
   "id": "3bc265bd-99ac-4861-b58f-e0d556e14509",
   "metadata": {},
   "outputs": [
    {
     "name": "stdout",
     "output_type": "stream",
     "text": [
      "Epoch 1/100\n",
      "1/1 - 1s - loss: 0.6861 - acc: 0.5717 - 519ms/epoch - 519ms/step\n",
      "Epoch 2/100\n",
      "1/1 - 0s - loss: 0.6526 - acc: 0.6352 - 4ms/epoch - 4ms/step\n",
      "Epoch 3/100\n",
      "1/1 - 0s - loss: 0.6390 - acc: 0.6433 - 4ms/epoch - 4ms/step\n",
      "Epoch 4/100\n",
      "1/1 - 0s - loss: 0.6328 - acc: 0.6433 - 3ms/epoch - 3ms/step\n",
      "Epoch 5/100\n",
      "1/1 - 0s - loss: 0.6284 - acc: 0.6450 - 4ms/epoch - 4ms/step\n",
      "Epoch 6/100\n",
      "1/1 - 0s - loss: 0.6248 - acc: 0.6482 - 5ms/epoch - 5ms/step\n",
      "Epoch 7/100\n",
      "1/1 - 0s - loss: 0.6218 - acc: 0.6531 - 4ms/epoch - 4ms/step\n",
      "Epoch 8/100\n",
      "1/1 - 0s - loss: 0.6192 - acc: 0.6531 - 3ms/epoch - 3ms/step\n",
      "Epoch 9/100\n",
      "1/1 - 0s - loss: 0.6170 - acc: 0.6564 - 3ms/epoch - 3ms/step\n",
      "Epoch 10/100\n",
      "1/1 - 0s - loss: 0.6152 - acc: 0.6564 - 4ms/epoch - 4ms/step\n",
      "Epoch 11/100\n",
      "1/1 - 0s - loss: 0.6135 - acc: 0.6564 - 4ms/epoch - 4ms/step\n",
      "Epoch 12/100\n",
      "1/1 - 0s - loss: 0.6119 - acc: 0.6580 - 3ms/epoch - 3ms/step\n",
      "Epoch 13/100\n",
      "1/1 - 0s - loss: 0.6104 - acc: 0.6564 - 4ms/epoch - 4ms/step\n",
      "Epoch 14/100\n",
      "1/1 - 0s - loss: 0.6089 - acc: 0.6564 - 3ms/epoch - 3ms/step\n",
      "Epoch 15/100\n",
      "1/1 - 0s - loss: 0.6076 - acc: 0.6580 - 4ms/epoch - 4ms/step\n",
      "Epoch 16/100\n",
      "1/1 - 0s - loss: 0.6065 - acc: 0.6580 - 3ms/epoch - 3ms/step\n",
      "Epoch 17/100\n",
      "1/1 - 0s - loss: 0.6055 - acc: 0.6612 - 4ms/epoch - 4ms/step\n",
      "Epoch 18/100\n",
      "1/1 - 0s - loss: 0.6045 - acc: 0.6612 - 3ms/epoch - 3ms/step\n",
      "Epoch 19/100\n",
      "1/1 - 0s - loss: 0.6037 - acc: 0.6629 - 4ms/epoch - 4ms/step\n",
      "Epoch 20/100\n",
      "1/1 - 0s - loss: 0.6029 - acc: 0.6629 - 4ms/epoch - 4ms/step\n",
      "Epoch 21/100\n",
      "1/1 - 0s - loss: 0.6021 - acc: 0.6629 - 3ms/epoch - 3ms/step\n",
      "Epoch 22/100\n",
      "1/1 - 0s - loss: 0.6014 - acc: 0.6629 - 3ms/epoch - 3ms/step\n",
      "Epoch 23/100\n",
      "1/1 - 0s - loss: 0.6006 - acc: 0.6629 - 3ms/epoch - 3ms/step\n",
      "Epoch 24/100\n",
      "1/1 - 0s - loss: 0.5999 - acc: 0.6645 - 5ms/epoch - 5ms/step\n",
      "Epoch 25/100\n",
      "1/1 - 0s - loss: 0.5993 - acc: 0.6645 - 4ms/epoch - 4ms/step\n",
      "Epoch 26/100\n",
      "1/1 - 0s - loss: 0.5986 - acc: 0.6661 - 5ms/epoch - 5ms/step\n",
      "Epoch 27/100\n",
      "1/1 - 0s - loss: 0.5979 - acc: 0.6661 - 3ms/epoch - 3ms/step\n",
      "Epoch 28/100\n",
      "1/1 - 0s - loss: 0.5972 - acc: 0.6678 - 3ms/epoch - 3ms/step\n",
      "Epoch 29/100\n",
      "1/1 - 0s - loss: 0.5966 - acc: 0.6678 - 3ms/epoch - 3ms/step\n",
      "Epoch 30/100\n",
      "1/1 - 0s - loss: 0.5959 - acc: 0.6661 - 4ms/epoch - 4ms/step\n",
      "Epoch 31/100\n",
      "1/1 - 0s - loss: 0.5951 - acc: 0.6661 - 2ms/epoch - 2ms/step\n",
      "Epoch 32/100\n",
      "1/1 - 0s - loss: 0.5943 - acc: 0.6678 - 4ms/epoch - 4ms/step\n",
      "Epoch 33/100\n",
      "1/1 - 0s - loss: 0.5937 - acc: 0.6678 - 4ms/epoch - 4ms/step\n",
      "Epoch 34/100\n",
      "1/1 - 0s - loss: 0.5930 - acc: 0.6678 - 3ms/epoch - 3ms/step\n",
      "Epoch 35/100\n",
      "1/1 - 0s - loss: 0.5924 - acc: 0.6694 - 3ms/epoch - 3ms/step\n",
      "Epoch 36/100\n",
      "1/1 - 0s - loss: 0.5919 - acc: 0.6678 - 4ms/epoch - 4ms/step\n",
      "Epoch 37/100\n",
      "1/1 - 0s - loss: 0.5914 - acc: 0.6678 - 3ms/epoch - 3ms/step\n",
      "Epoch 38/100\n",
      "1/1 - 0s - loss: 0.5909 - acc: 0.6694 - 4ms/epoch - 4ms/step\n",
      "Epoch 39/100\n",
      "1/1 - 0s - loss: 0.5905 - acc: 0.6694 - 3ms/epoch - 3ms/step\n",
      "Epoch 40/100\n",
      "1/1 - 0s - loss: 0.5901 - acc: 0.6710 - 4ms/epoch - 4ms/step\n",
      "Epoch 41/100\n",
      "1/1 - 0s - loss: 0.5897 - acc: 0.6694 - 3ms/epoch - 3ms/step\n",
      "Epoch 42/100\n",
      "1/1 - 0s - loss: 0.5893 - acc: 0.6694 - 4ms/epoch - 4ms/step\n",
      "Epoch 43/100\n",
      "1/1 - 0s - loss: 0.5890 - acc: 0.6694 - 3ms/epoch - 3ms/step\n",
      "Epoch 44/100\n",
      "1/1 - 0s - loss: 0.5886 - acc: 0.6694 - 3ms/epoch - 3ms/step\n",
      "Epoch 45/100\n",
      "1/1 - 0s - loss: 0.5883 - acc: 0.6694 - 3ms/epoch - 3ms/step\n",
      "Epoch 46/100\n",
      "1/1 - 0s - loss: 0.5879 - acc: 0.6710 - 4ms/epoch - 4ms/step\n",
      "Epoch 47/100\n",
      "1/1 - 0s - loss: 0.5876 - acc: 0.6726 - 4ms/epoch - 4ms/step\n",
      "Epoch 48/100\n",
      "1/1 - 0s - loss: 0.5873 - acc: 0.6743 - 4ms/epoch - 4ms/step\n",
      "Epoch 49/100\n",
      "1/1 - 0s - loss: 0.5870 - acc: 0.6792 - 3ms/epoch - 3ms/step\n",
      "Epoch 50/100\n",
      "1/1 - 0s - loss: 0.5867 - acc: 0.6792 - 3ms/epoch - 3ms/step\n",
      "Epoch 51/100\n",
      "1/1 - 0s - loss: 0.5864 - acc: 0.6792 - 3ms/epoch - 3ms/step\n",
      "Epoch 52/100\n",
      "1/1 - 0s - loss: 0.5861 - acc: 0.6792 - 3ms/epoch - 3ms/step\n",
      "Epoch 53/100\n",
      "1/1 - 0s - loss: 0.5858 - acc: 0.6792 - 3ms/epoch - 3ms/step\n",
      "Epoch 54/100\n",
      "1/1 - 0s - loss: 0.5855 - acc: 0.6808 - 3ms/epoch - 3ms/step\n",
      "Epoch 55/100\n",
      "1/1 - 0s - loss: 0.5852 - acc: 0.6808 - 3ms/epoch - 3ms/step\n",
      "Epoch 56/100\n",
      "1/1 - 0s - loss: 0.5849 - acc: 0.6808 - 4ms/epoch - 4ms/step\n",
      "Epoch 57/100\n",
      "1/1 - 0s - loss: 0.5846 - acc: 0.6824 - 3ms/epoch - 3ms/step\n",
      "Epoch 58/100\n",
      "1/1 - 0s - loss: 0.5844 - acc: 0.6824 - 3ms/epoch - 3ms/step\n",
      "Epoch 59/100\n",
      "1/1 - 0s - loss: 0.5841 - acc: 0.6840 - 3ms/epoch - 3ms/step\n",
      "Epoch 60/100\n",
      "1/1 - 0s - loss: 0.5838 - acc: 0.6840 - 4ms/epoch - 4ms/step\n",
      "Epoch 61/100\n",
      "1/1 - 0s - loss: 0.5835 - acc: 0.6840 - 4ms/epoch - 4ms/step\n",
      "Epoch 62/100\n",
      "1/1 - 0s - loss: 0.5833 - acc: 0.6840 - 3ms/epoch - 3ms/step\n",
      "Epoch 63/100\n",
      "1/1 - 0s - loss: 0.5830 - acc: 0.6840 - 3ms/epoch - 3ms/step\n",
      "Epoch 64/100\n",
      "1/1 - 0s - loss: 0.5828 - acc: 0.6840 - 2ms/epoch - 2ms/step\n",
      "Epoch 65/100\n",
      "1/1 - 0s - loss: 0.5825 - acc: 0.6840 - 3ms/epoch - 3ms/step\n",
      "Epoch 66/100\n",
      "1/1 - 0s - loss: 0.5822 - acc: 0.6840 - 2ms/epoch - 2ms/step\n",
      "Epoch 67/100\n",
      "1/1 - 0s - loss: 0.5820 - acc: 0.6840 - 3ms/epoch - 3ms/step\n",
      "Epoch 68/100\n",
      "1/1 - 0s - loss: 0.5817 - acc: 0.6840 - 4ms/epoch - 4ms/step\n",
      "Epoch 69/100\n",
      "1/1 - 0s - loss: 0.5815 - acc: 0.6857 - 3ms/epoch - 3ms/step\n",
      "Epoch 70/100\n",
      "1/1 - 0s - loss: 0.5812 - acc: 0.6857 - 3ms/epoch - 3ms/step\n",
      "Epoch 71/100\n",
      "1/1 - 0s - loss: 0.5810 - acc: 0.6857 - 3ms/epoch - 3ms/step\n",
      "Epoch 72/100\n",
      "1/1 - 0s - loss: 0.5807 - acc: 0.6857 - 3ms/epoch - 3ms/step\n",
      "Epoch 73/100\n",
      "1/1 - 0s - loss: 0.5805 - acc: 0.6857 - 3ms/epoch - 3ms/step\n",
      "Epoch 74/100\n",
      "1/1 - 0s - loss: 0.5802 - acc: 0.6857 - 3ms/epoch - 3ms/step\n",
      "Epoch 75/100\n",
      "1/1 - 0s - loss: 0.5800 - acc: 0.6873 - 5ms/epoch - 5ms/step\n",
      "Epoch 76/100\n",
      "1/1 - 0s - loss: 0.5797 - acc: 0.6873 - 5ms/epoch - 5ms/step\n",
      "Epoch 77/100\n",
      "1/1 - 0s - loss: 0.5795 - acc: 0.6889 - 5ms/epoch - 5ms/step\n",
      "Epoch 78/100\n",
      "1/1 - 0s - loss: 0.5792 - acc: 0.6906 - 3ms/epoch - 3ms/step\n",
      "Epoch 79/100\n",
      "1/1 - 0s - loss: 0.5790 - acc: 0.6889 - 4ms/epoch - 4ms/step\n",
      "Epoch 80/100\n",
      "1/1 - 0s - loss: 0.5787 - acc: 0.6889 - 3ms/epoch - 3ms/step\n",
      "Epoch 81/100\n",
      "1/1 - 0s - loss: 0.5785 - acc: 0.6906 - 3ms/epoch - 3ms/step\n",
      "Epoch 82/100\n",
      "1/1 - 0s - loss: 0.5782 - acc: 0.6922 - 3ms/epoch - 3ms/step\n",
      "Epoch 83/100\n",
      "1/1 - 0s - loss: 0.5780 - acc: 0.6922 - 3ms/epoch - 3ms/step\n",
      "Epoch 84/100\n",
      "1/1 - 0s - loss: 0.5777 - acc: 0.6938 - 4ms/epoch - 4ms/step\n",
      "Epoch 85/100\n",
      "1/1 - 0s - loss: 0.5775 - acc: 0.6938 - 4ms/epoch - 4ms/step\n",
      "Epoch 86/100\n",
      "1/1 - 0s - loss: 0.5772 - acc: 0.6954 - 4ms/epoch - 4ms/step\n",
      "Epoch 87/100\n",
      "1/1 - 0s - loss: 0.5770 - acc: 0.6954 - 5ms/epoch - 5ms/step\n",
      "Epoch 88/100\n",
      "1/1 - 0s - loss: 0.5767 - acc: 0.6938 - 3ms/epoch - 3ms/step\n",
      "Epoch 89/100\n",
      "1/1 - 0s - loss: 0.5765 - acc: 0.6938 - 3ms/epoch - 3ms/step\n",
      "Epoch 90/100\n",
      "1/1 - 0s - loss: 0.5762 - acc: 0.6938 - 3ms/epoch - 3ms/step\n",
      "Epoch 91/100\n",
      "1/1 - 0s - loss: 0.5760 - acc: 0.6938 - 4ms/epoch - 4ms/step\n",
      "Epoch 92/100\n",
      "1/1 - 0s - loss: 0.5757 - acc: 0.6987 - 3ms/epoch - 3ms/step\n",
      "Epoch 93/100\n",
      "1/1 - 0s - loss: 0.5755 - acc: 0.6987 - 3ms/epoch - 3ms/step\n",
      "Epoch 94/100\n",
      "1/1 - 0s - loss: 0.5752 - acc: 0.6954 - 3ms/epoch - 3ms/step\n",
      "Epoch 95/100\n",
      "1/1 - 0s - loss: 0.5749 - acc: 0.6954 - 3ms/epoch - 3ms/step\n",
      "Epoch 96/100\n",
      "1/1 - 0s - loss: 0.5747 - acc: 0.6954 - 3ms/epoch - 3ms/step\n",
      "Epoch 97/100\n",
      "1/1 - 0s - loss: 0.5744 - acc: 0.6954 - 3ms/epoch - 3ms/step\n",
      "Epoch 98/100\n",
      "1/1 - 0s - loss: 0.5741 - acc: 0.6954 - 3ms/epoch - 3ms/step\n",
      "Epoch 99/100\n",
      "1/1 - 0s - loss: 0.5738 - acc: 0.6971 - 3ms/epoch - 3ms/step\n",
      "Epoch 100/100\n",
      "1/1 - 0s - loss: 0.5735 - acc: 0.6971 - 4ms/epoch - 4ms/step\n"
     ]
    },
    {
     "data": {
      "text/plain": [
       "<keras.callbacks.History at 0x1ea9aed4ca0>"
      ]
     },
     "execution_count": 15,
     "metadata": {},
     "output_type": "execute_result"
    }
   ],
   "source": [
    "model.fit(train_x, train_y, epochs=no_epochs, batch_size=len(train),  verbose=2)"
   ]
  },
  {
   "cell_type": "markdown",
   "id": "daf29133-e5f6-4dae-a0a5-426af8d0d369",
   "metadata": {},
   "source": [
    "## Predicting the model..."
   ]
  },
  {
   "cell_type": "code",
   "execution_count": 16,
   "id": "f7a303c7-7bbc-41b8-8004-3d1f4c642c41",
   "metadata": {},
   "outputs": [
    {
     "name": "stdout",
     "output_type": "stream",
     "text": [
      "5/5 [==============================] - 0s 2ms/step\n"
     ]
    }
   ],
   "source": [
    "test_x=test.iloc[:,1:]\n",
    "predictions = model.predict(test_x)"
   ]
  },
  {
   "cell_type": "code",
   "execution_count": 17,
   "id": "7b60ef53-18c2-43ce-8036-7832956106d4",
   "metadata": {},
   "outputs": [
    {
     "data": {
      "text/plain": [
       "array([[0.3020136 ],\n",
       "       [0.2488539 ],\n",
       "       [0.13717216],\n",
       "       [0.37256324],\n",
       "       [0.19447061],\n",
       "       [0.5541274 ],\n",
       "       [0.49918082],\n",
       "       [0.35408503],\n",
       "       [0.47074926],\n",
       "       [0.22555886],\n",
       "       [0.55544585],\n",
       "       [0.3167094 ],\n",
       "       [0.65260375],\n",
       "       [0.31893754],\n",
       "       [0.3815457 ],\n",
       "       [0.17213534],\n",
       "       [0.38331097],\n",
       "       [0.12896448],\n",
       "       [0.5268837 ],\n",
       "       [0.5114115 ],\n",
       "       [0.34991497],\n",
       "       [0.3603441 ],\n",
       "       [0.3634929 ],\n",
       "       [0.54072577],\n",
       "       [0.448934  ],\n",
       "       [0.23457874],\n",
       "       [0.15177256],\n",
       "       [0.36236015],\n",
       "       [0.39480346],\n",
       "       [0.25223792],\n",
       "       [0.29311642],\n",
       "       [0.22068378],\n",
       "       [0.3151285 ],\n",
       "       [0.13599958],\n",
       "       [0.3587472 ],\n",
       "       [0.2675907 ],\n",
       "       [0.3986617 ],\n",
       "       [0.5244506 ],\n",
       "       [0.12108245],\n",
       "       [0.27069426],\n",
       "       [0.20056097],\n",
       "       [0.5732776 ],\n",
       "       [0.35253608],\n",
       "       [0.51579785],\n",
       "       [0.27251115],\n",
       "       [0.34513092],\n",
       "       [0.5100764 ],\n",
       "       [0.70231664],\n",
       "       [0.34581003],\n",
       "       [0.14855757],\n",
       "       [0.38174856],\n",
       "       [0.18548802],\n",
       "       [0.3734933 ],\n",
       "       [0.5030755 ],\n",
       "       [0.24509744],\n",
       "       [0.30962545],\n",
       "       [0.20380874],\n",
       "       [0.25000566],\n",
       "       [0.4133724 ],\n",
       "       [0.1881796 ],\n",
       "       [0.20491377],\n",
       "       [0.1831721 ],\n",
       "       [0.59362507],\n",
       "       [0.559847  ],\n",
       "       [0.34145102],\n",
       "       [0.41624388],\n",
       "       [0.26255196],\n",
       "       [0.36430845],\n",
       "       [0.22539362],\n",
       "       [0.32119226],\n",
       "       [0.59214354],\n",
       "       [0.3510392 ],\n",
       "       [0.35627532],\n",
       "       [0.15257335],\n",
       "       [0.16044013],\n",
       "       [0.48537502],\n",
       "       [0.41320327],\n",
       "       [0.2473179 ],\n",
       "       [0.20425566],\n",
       "       [0.30601582],\n",
       "       [0.355758  ],\n",
       "       [0.4958664 ],\n",
       "       [0.37125418],\n",
       "       [0.3808542 ],\n",
       "       [0.25240764],\n",
       "       [0.46178862],\n",
       "       [0.37517217],\n",
       "       [0.21426539],\n",
       "       [0.1488494 ],\n",
       "       [0.12702489],\n",
       "       [0.15461572],\n",
       "       [0.3423166 ],\n",
       "       [0.33616158],\n",
       "       [0.39926782],\n",
       "       [0.56804883],\n",
       "       [0.25212598],\n",
       "       [0.15296929],\n",
       "       [0.30329958],\n",
       "       [0.44543839],\n",
       "       [0.36015025],\n",
       "       [0.43321997],\n",
       "       [0.51584536],\n",
       "       [0.3076688 ],\n",
       "       [0.11569667],\n",
       "       [0.43995544],\n",
       "       [0.38336012],\n",
       "       [0.29356137],\n",
       "       [0.51226753],\n",
       "       [0.35511494],\n",
       "       [0.26301467],\n",
       "       [0.38687754],\n",
       "       [0.319963  ],\n",
       "       [0.3832328 ],\n",
       "       [0.57743853],\n",
       "       [0.27685603],\n",
       "       [0.54982805],\n",
       "       [0.5866654 ],\n",
       "       [0.1276222 ],\n",
       "       [0.29806605],\n",
       "       [0.43333727],\n",
       "       [0.45960137],\n",
       "       [0.19719197],\n",
       "       [0.36609036],\n",
       "       [0.36234444],\n",
       "       [0.38178554],\n",
       "       [0.38673943],\n",
       "       [0.29996043],\n",
       "       [0.25400382],\n",
       "       [0.24266925],\n",
       "       [0.25178847],\n",
       "       [0.37311754],\n",
       "       [0.19034556],\n",
       "       [0.332875  ],\n",
       "       [0.13938679],\n",
       "       [0.302646  ],\n",
       "       [0.47893047],\n",
       "       [0.41488996],\n",
       "       [0.36164993],\n",
       "       [0.448336  ],\n",
       "       [0.36868116],\n",
       "       [0.22100195],\n",
       "       [0.36472315],\n",
       "       [0.37446234],\n",
       "       [0.16438192],\n",
       "       [0.5043786 ],\n",
       "       [0.19757448],\n",
       "       [0.15267356],\n",
       "       [0.34027556],\n",
       "       [0.28354433],\n",
       "       [0.11871254],\n",
       "       [0.5453555 ],\n",
       "       [0.15124533],\n",
       "       [0.34139663],\n",
       "       [0.3718729 ]], dtype=float32)"
      ]
     },
     "execution_count": 17,
     "metadata": {},
     "output_type": "execute_result"
    }
   ],
   "source": [
    "predictions"
   ]
  },
  {
   "cell_type": "code",
   "execution_count": 18,
   "id": "ec4eb998-aa1c-431c-bf44-1a031869c56a",
   "metadata": {},
   "outputs": [
    {
     "name": "stdout",
     "output_type": "stream",
     "text": [
      "[0, 0, 0, 0, 0, 1, 0, 0, 0, 0, 1, 0, 1, 0, 0, 0, 0, 0, 1, 1, 0, 0, 0, 1, 0, 0, 0, 0, 0, 0, 0, 0, 0, 0, 0, 0, 0, 1, 0, 0, 0, 1, 0, 1, 0, 0, 1, 1, 0, 0, 0, 0, 0, 1, 0, 0, 0, 0, 0, 0, 0, 0, 1, 1, 0, 0, 0, 0, 0, 0, 1, 0, 0, 0, 0, 0, 0, 0, 0, 0, 0, 0, 0, 0, 0, 0, 0, 0, 0, 0, 0, 0, 0, 0, 1, 0, 0, 0, 0, 0, 0, 1, 0, 0, 0, 0, 0, 1, 0, 0, 0, 0, 0, 1, 0, 1, 1, 0, 0, 0, 0, 0, 0, 0, 0, 0, 0, 0, 0, 0, 0, 0, 0, 0, 0, 0, 0, 0, 0, 0, 0, 0, 0, 0, 1, 0, 0, 0, 0, 0, 1, 0, 0, 0]\n"
     ]
    }
   ],
   "source": [
    "# For kaggle submission ...\n",
    "\n",
    "rounded = [int(round(x[0])) for x in predictions]\n",
    "print(rounded)"
   ]
  },
  {
   "cell_type": "markdown",
   "id": "1fac5792-edd9-4c07-80fc-af5687c487de",
   "metadata": {},
   "source": [
    "## Submission..."
   ]
  },
  {
   "cell_type": "code",
   "execution_count": 19,
   "id": "7fdc37ac-fc11-4625-838f-11745f4b614e",
   "metadata": {},
   "outputs": [],
   "source": [
    "subm.diabetes=rounded\n",
    "subm.to_csv('submission.csv',index=False)"
   ]
  },
  {
   "cell_type": "code",
   "execution_count": null,
   "id": "5cc3f9b3-d84b-4ec2-a29c-ece44820301f",
   "metadata": {},
   "outputs": [],
   "source": []
  }
 ],
 "metadata": {
  "kernelspec": {
   "display_name": "Python 3 (ipykernel)",
   "language": "python",
   "name": "python3"
  },
  "language_info": {
   "codemirror_mode": {
    "name": "ipython",
    "version": 3
   },
   "file_extension": ".py",
   "mimetype": "text/x-python",
   "name": "python",
   "nbconvert_exporter": "python",
   "pygments_lexer": "ipython3",
   "version": "3.9.12"
  }
 },
 "nbformat": 4,
 "nbformat_minor": 5
}
